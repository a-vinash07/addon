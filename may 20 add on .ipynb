{
 "cells": [
  {
   "cell_type": "code",
   "execution_count": 1,
   "id": "7f07f08a",
   "metadata": {},
   "outputs": [
    {
     "data": {
      "text/plain": [
       "['dog', 'cat', 'tiger', 'monkey', 'zebra']"
      ]
     },
     "execution_count": 1,
     "metadata": {},
     "output_type": "execute_result"
    }
   ],
   "source": [
    "animals =[\"dog\",\"cat\",\"tiger\",\"monkey\",\"zebra\"]\n",
    "animals"
   ]
  },
  {
   "cell_type": "code",
   "execution_count": 2,
   "id": "68b9bf3c",
   "metadata": {},
   "outputs": [
    {
     "data": {
      "text/plain": [
       "'zebra'"
      ]
     },
     "execution_count": 2,
     "metadata": {},
     "output_type": "execute_result"
    }
   ],
   "source": [
    "animals[4]"
   ]
  },
  {
   "cell_type": "code",
   "execution_count": 3,
   "id": "4d05334b",
   "metadata": {},
   "outputs": [
    {
     "data": {
      "text/plain": [
       "'dog'"
      ]
     },
     "execution_count": 3,
     "metadata": {},
     "output_type": "execute_result"
    }
   ],
   "source": [
    "animals[-5]"
   ]
  },
  {
   "cell_type": "code",
   "execution_count": 4,
   "id": "1423b164",
   "metadata": {},
   "outputs": [
    {
     "data": {
      "text/plain": [
       "['cat', 'tiger', 'monkey']"
      ]
     },
     "execution_count": 4,
     "metadata": {},
     "output_type": "execute_result"
    }
   ],
   "source": [
    "animals[1:4]"
   ]
  },
  {
   "cell_type": "code",
   "execution_count": 5,
   "id": "87c99e53",
   "metadata": {},
   "outputs": [
    {
     "data": {
      "text/plain": [
       "'tiger'"
      ]
     },
     "execution_count": 5,
     "metadata": {},
     "output_type": "execute_result"
    }
   ],
   "source": [
    "animals.pop(2)"
   ]
  },
  {
   "cell_type": "code",
   "execution_count": 6,
   "id": "909fd142",
   "metadata": {},
   "outputs": [],
   "source": [
    "animals.insert(1,\"donkey\")"
   ]
  },
  {
   "cell_type": "code",
   "execution_count": 7,
   "id": "a9e60dd3",
   "metadata": {},
   "outputs": [
    {
     "data": {
      "text/plain": [
       "['dog', 'donkey', 'cat', 'monkey', 'zebra']"
      ]
     },
     "execution_count": 7,
     "metadata": {},
     "output_type": "execute_result"
    }
   ],
   "source": [
    "animals"
   ]
  },
  {
   "cell_type": "code",
   "execution_count": 8,
   "id": "6486348e",
   "metadata": {},
   "outputs": [],
   "source": [
    "animals.sort(reverse=True)"
   ]
  },
  {
   "cell_type": "code",
   "execution_count": 9,
   "id": "f886b9d9",
   "metadata": {},
   "outputs": [
    {
     "data": {
      "text/plain": [
       "['zebra', 'monkey', 'donkey', 'dog', 'cat']"
      ]
     },
     "execution_count": 9,
     "metadata": {},
     "output_type": "execute_result"
    }
   ],
   "source": [
    "animals"
   ]
  },
  {
   "cell_type": "code",
   "execution_count": 10,
   "id": "941662b9",
   "metadata": {
    "scrolled": true
   },
   "outputs": [
    {
     "data": {
      "text/plain": [
       "1"
      ]
     },
     "execution_count": 10,
     "metadata": {},
     "output_type": "execute_result"
    }
   ],
   "source": [
    "animals.count(\"dog\")"
   ]
  },
  {
   "cell_type": "code",
   "execution_count": 11,
   "id": "a7ebbb7b",
   "metadata": {},
   "outputs": [],
   "source": [
    "animals[2]=\"giraffe\""
   ]
  },
  {
   "cell_type": "code",
   "execution_count": 12,
   "id": "a77730a3",
   "metadata": {},
   "outputs": [
    {
     "data": {
      "text/plain": [
       "['zebra', 'monkey', 'giraffe', 'dog', 'cat']"
      ]
     },
     "execution_count": 12,
     "metadata": {},
     "output_type": "execute_result"
    }
   ],
   "source": [
    "animals"
   ]
  },
  {
   "cell_type": "code",
   "execution_count": 13,
   "id": "c108c2fd",
   "metadata": {},
   "outputs": [],
   "source": [
    "# tuple"
   ]
  },
  {
   "cell_type": "code",
   "execution_count": 14,
   "id": "610b3135",
   "metadata": {},
   "outputs": [],
   "source": [
    "students=(\"sinan\",\"sonu\",\"abhinav\",\"samuel\",\"vijith\")"
   ]
  },
  {
   "cell_type": "code",
   "execution_count": 15,
   "id": "928de1a7",
   "metadata": {},
   "outputs": [
    {
     "data": {
      "text/plain": [
       "('sinan', 'sonu', 'abhinav', 'samuel', 'vijith')"
      ]
     },
     "execution_count": 15,
     "metadata": {},
     "output_type": "execute_result"
    }
   ],
   "source": [
    "students"
   ]
  },
  {
   "cell_type": "code",
   "execution_count": 16,
   "id": "9819eab5",
   "metadata": {},
   "outputs": [],
   "source": [
    "# tuple"
   ]
  },
  {
   "cell_type": "code",
   "execution_count": 17,
   "id": "f0b8807f",
   "metadata": {},
   "outputs": [],
   "source": [
    "place=(\"chunakkara\",\"charummodu\",\"kollam\")"
   ]
  },
  {
   "cell_type": "code",
   "execution_count": 18,
   "id": "d0385a3f",
   "metadata": {},
   "outputs": [
    {
     "data": {
      "text/plain": [
       "('chunakkara', 'charummodu', 'kollam')"
      ]
     },
     "execution_count": 18,
     "metadata": {},
     "output_type": "execute_result"
    }
   ],
   "source": [
    "place"
   ]
  },
  {
   "cell_type": "code",
   "execution_count": 19,
   "id": "0e56ee06",
   "metadata": {},
   "outputs": [],
   "source": [
    "s1=list(place)"
   ]
  },
  {
   "cell_type": "code",
   "execution_count": 20,
   "id": "346fb9ea",
   "metadata": {},
   "outputs": [
    {
     "data": {
      "text/plain": [
       "['chunakkara', 'charummodu', 'kollam']"
      ]
     },
     "execution_count": 20,
     "metadata": {},
     "output_type": "execute_result"
    }
   ],
   "source": [
    "s1"
   ]
  },
  {
   "cell_type": "code",
   "execution_count": 21,
   "id": "c8ee8110",
   "metadata": {},
   "outputs": [],
   "source": [
    "s1.append(\"adoor\")"
   ]
  },
  {
   "cell_type": "code",
   "execution_count": 22,
   "id": "ef10dd76",
   "metadata": {},
   "outputs": [
    {
     "data": {
      "text/plain": [
       "('chunakkara', 'charummodu', 'kollam', 'adoor')"
      ]
     },
     "execution_count": 22,
     "metadata": {},
     "output_type": "execute_result"
    }
   ],
   "source": [
    "tuple(s1)"
   ]
  },
  {
   "cell_type": "code",
   "execution_count": 23,
   "id": "6df6aa38",
   "metadata": {},
   "outputs": [],
   "source": [
    "#dictionary"
   ]
  },
  {
   "cell_type": "code",
   "execution_count": 24,
   "id": "0517aa72",
   "metadata": {},
   "outputs": [],
   "source": [
    "cities={\"avinash\":\"alappuzha\",\"abhinav\":\"kollam\"}"
   ]
  },
  {
   "cell_type": "code",
   "execution_count": 25,
   "id": "aa195246",
   "metadata": {},
   "outputs": [
    {
     "data": {
      "text/plain": [
       "{'avinash': 'alappuzha', 'abhinav': 'kollam'}"
      ]
     },
     "execution_count": 25,
     "metadata": {},
     "output_type": "execute_result"
    }
   ],
   "source": [
    "cities"
   ]
  },
  {
   "cell_type": "code",
   "execution_count": 26,
   "id": "cf96d6f0",
   "metadata": {},
   "outputs": [
    {
     "data": {
      "text/plain": [
       "'alappuzha'"
      ]
     },
     "execution_count": 26,
     "metadata": {},
     "output_type": "execute_result"
    }
   ],
   "source": [
    "cities[\"avinash\"]"
   ]
  },
  {
   "cell_type": "code",
   "execution_count": 27,
   "id": "ed409c63",
   "metadata": {
    "scrolled": true
   },
   "outputs": [],
   "source": [
    "cities[\"chalakudy\"]=\"thrissur\""
   ]
  },
  {
   "cell_type": "code",
   "execution_count": 28,
   "id": "fd0b3f57",
   "metadata": {},
   "outputs": [
    {
     "data": {
      "text/plain": [
       "{'avinash': 'alappuzha', 'abhinav': 'kollam', 'chalakudy': 'thrissur'}"
      ]
     },
     "execution_count": 28,
     "metadata": {},
     "output_type": "execute_result"
    }
   ],
   "source": [
    "cities"
   ]
  },
  {
   "cell_type": "code",
   "execution_count": 29,
   "id": "fc47094c",
   "metadata": {},
   "outputs": [
    {
     "data": {
      "text/plain": [
       "'thrissur'"
      ]
     },
     "execution_count": 29,
     "metadata": {},
     "output_type": "execute_result"
    }
   ],
   "source": [
    "cities.pop(\"chalakudy\")"
   ]
  },
  {
   "cell_type": "code",
   "execution_count": 30,
   "id": "09d29c66",
   "metadata": {},
   "outputs": [
    {
     "data": {
      "text/plain": [
       "{'avinash': 'alappuzha', 'abhinav': 'kollam'}"
      ]
     },
     "execution_count": 30,
     "metadata": {},
     "output_type": "execute_result"
    }
   ],
   "source": [
    "cities"
   ]
  },
  {
   "cell_type": "code",
   "execution_count": 31,
   "id": "0e69eb9f",
   "metadata": {},
   "outputs": [
    {
     "data": {
      "text/plain": [
       "('abhinav', 'kollam')"
      ]
     },
     "execution_count": 31,
     "metadata": {},
     "output_type": "execute_result"
    }
   ],
   "source": [
    "cities.popitem()"
   ]
  },
  {
   "cell_type": "code",
   "execution_count": 32,
   "id": "226d3b2d",
   "metadata": {},
   "outputs": [],
   "source": [
    "states={\"KL\":{\"Capital\":\"TVM\",\"Rank\":1},\"TN\":{\"Capital\":\"CNI\",\"Rank\":2},\"KA\":{\"Capital\":\"BLR\",\"Rank\":3},\"TS\":{\"Capital\":\"HYD\",\"Rank\":4}}"
   ]
  },
  {
   "cell_type": "code",
   "execution_count": 33,
   "id": "c02bbe35",
   "metadata": {},
   "outputs": [
    {
     "data": {
      "text/plain": [
       "{'KL': {'Capital': 'TVM', 'Rank': 1},\n",
       " 'TN': {'Capital': 'CNI', 'Rank': 2},\n",
       " 'KA': {'Capital': 'BLR', 'Rank': 3},\n",
       " 'TS': {'Capital': 'HYD', 'Rank': 4}}"
      ]
     },
     "execution_count": 33,
     "metadata": {},
     "output_type": "execute_result"
    }
   ],
   "source": [
    "states"
   ]
  },
  {
   "cell_type": "code",
   "execution_count": 34,
   "id": "4fb93e95",
   "metadata": {},
   "outputs": [
    {
     "data": {
      "text/plain": [
       "{'Capital': 'BLR', 'Rank': 3}"
      ]
     },
     "execution_count": 34,
     "metadata": {},
     "output_type": "execute_result"
    }
   ],
   "source": [
    "states[\"KA\"]"
   ]
  },
  {
   "cell_type": "code",
   "execution_count": 35,
   "id": "c629976c",
   "metadata": {},
   "outputs": [
    {
     "data": {
      "text/plain": [
       "3"
      ]
     },
     "execution_count": 35,
     "metadata": {},
     "output_type": "execute_result"
    }
   ],
   "source": [
    "states[\"KA\"][\"Rank\"]"
   ]
  },
  {
   "cell_type": "code",
   "execution_count": 36,
   "id": "37558246",
   "metadata": {},
   "outputs": [
    {
     "data": {
      "text/plain": [
       "'HYD'"
      ]
     },
     "execution_count": 36,
     "metadata": {},
     "output_type": "execute_result"
    }
   ],
   "source": [
    "states[\"TS\"][\"Capital\"]"
   ]
  },
  {
   "cell_type": "markdown",
   "id": "965ea6b2",
   "metadata": {},
   "source": [
    "# set"
   ]
  },
  {
   "cell_type": "code",
   "execution_count": 37,
   "id": "ddabd21d",
   "metadata": {},
   "outputs": [],
   "source": [
    "set_01={\"apple\",\"Mango\",\"strawberry\",\"Watermelon\",\"banana\",\"pineapple\",}"
   ]
  },
  {
   "cell_type": "code",
   "execution_count": 38,
   "id": "8a27d914",
   "metadata": {},
   "outputs": [
    {
     "data": {
      "text/plain": [
       "set"
      ]
     },
     "execution_count": 38,
     "metadata": {},
     "output_type": "execute_result"
    }
   ],
   "source": [
    "type(set_01)"
   ]
  },
  {
   "cell_type": "code",
   "execution_count": 39,
   "id": "523cb5b0",
   "metadata": {},
   "outputs": [
    {
     "data": {
      "text/plain": [
       "{'Mango', 'Watermelon', 'apple', 'banana', 'pineapple', 'strawberry'}"
      ]
     },
     "execution_count": 39,
     "metadata": {},
     "output_type": "execute_result"
    }
   ],
   "source": [
    "set_01"
   ]
  },
  {
   "cell_type": "code",
   "execution_count": 40,
   "id": "091c654f",
   "metadata": {},
   "outputs": [],
   "source": [
    "set_01.add(\"kiwi\")"
   ]
  },
  {
   "cell_type": "code",
   "execution_count": 41,
   "id": "e1c82764",
   "metadata": {},
   "outputs": [
    {
     "data": {
      "text/plain": [
       "{'Mango', 'Watermelon', 'apple', 'banana', 'kiwi', 'pineapple', 'strawberry'}"
      ]
     },
     "execution_count": 41,
     "metadata": {},
     "output_type": "execute_result"
    }
   ],
   "source": [
    "set_01"
   ]
  },
  {
   "cell_type": "code",
   "execution_count": 42,
   "id": "bc70c5b0",
   "metadata": {},
   "outputs": [
    {
     "data": {
      "text/plain": [
       "'kiwi'"
      ]
     },
     "execution_count": 42,
     "metadata": {},
     "output_type": "execute_result"
    }
   ],
   "source": [
    "set_01.pop()"
   ]
  },
  {
   "cell_type": "code",
   "execution_count": 43,
   "id": "61d3161d",
   "metadata": {},
   "outputs": [
    {
     "data": {
      "text/plain": [
       "{'Mango', 'Watermelon', 'apple', 'banana', 'pineapple', 'strawberry'}"
      ]
     },
     "execution_count": 43,
     "metadata": {},
     "output_type": "execute_result"
    }
   ],
   "source": [
    "set_01"
   ]
  },
  {
   "cell_type": "code",
   "execution_count": 44,
   "id": "94c73bb8",
   "metadata": {},
   "outputs": [],
   "source": [
    "set_01.remove(\"Mango\")"
   ]
  },
  {
   "cell_type": "code",
   "execution_count": 45,
   "id": "87b53692",
   "metadata": {},
   "outputs": [
    {
     "data": {
      "text/plain": [
       "{'Watermelon', 'apple', 'banana', 'pineapple', 'strawberry'}"
      ]
     },
     "execution_count": 45,
     "metadata": {},
     "output_type": "execute_result"
    }
   ],
   "source": [
    "set_01"
   ]
  },
  {
   "cell_type": "code",
   "execution_count": 46,
   "id": "2b46e872",
   "metadata": {},
   "outputs": [],
   "source": [
    "def addition(a,b):\n",
    "    c=a+b\n",
    "    return c"
   ]
  },
  {
   "cell_type": "code",
   "execution_count": 47,
   "id": "ca15ea50",
   "metadata": {},
   "outputs": [
    {
     "ename": "SyntaxError",
     "evalue": "invalid syntax (1179946938.py, line 3)",
     "output_type": "error",
     "traceback": [
      "\u001b[1;36m  Cell \u001b[1;32mIn[47], line 3\u001b[1;36m\u001b[0m\n\u001b[1;33m    adb=int(input(\"enter no 2: \"))dition(a,b)\u001b[0m\n\u001b[1;37m                                  ^\u001b[0m\n\u001b[1;31mSyntaxError\u001b[0m\u001b[1;31m:\u001b[0m invalid syntax\n"
     ]
    }
   ],
   "source": [
    "a=int(input(\"enter no 1: \"))\n",
    "\n",
    "adb=int(input(\"enter no 2: \"))dition(a,b)"
   ]
  },
  {
   "cell_type": "code",
   "execution_count": null,
   "id": "5788884a",
   "metadata": {},
   "outputs": [],
   "source": [
    "def calc(a,b,c):\n",
    "    if c==\"add\":\n",
    "        out=a+b\n",
    "        return out\n",
    "    elif c ==\"sub\":\n",
    "        out=a-b\n",
    "        return out\n",
    "    elif c==\"mult\":\n",
    "        out=a*b\n",
    "        return out\n",
    "    elif c==\"div\":\n",
    "        out=a/b\n",
    "        return out\n",
    "    elif:\n",
    "        return print(\"Wrong Function\")\n",
    "a=int(input(\"enter no 1: \"))\n",
    "b=int(input(\"enter no 2: \"))\n",
    "c=str(input(\"enter function 'add,sub,mult,div':\" ))\n",
    "calc(a,b,c)\n",
    "\n",
    "            \n",
    "            \n",
    "        \n",
    "            \n"
   ]
  },
  {
   "cell_type": "code",
   "execution_count": null,
   "id": "2bfc1f25",
   "metadata": {},
   "outputs": [],
   "source": [
    " a=10 #this is ia global variable\n",
    " def add01():\n",
    "    x=int(input('enter a number')) #this is a local variable\n",
    "    return(x+a)\n",
    "    "
   ]
  },
  {
   "cell_type": "code",
   "execution_count": null,
   "id": "951f3133",
   "metadata": {},
   "outputs": [],
   "source": [
    "add01()"
   ]
  },
  {
   "cell_type": "code",
   "execution_count": 49,
   "id": "24f5d7ec",
   "metadata": {},
   "outputs": [],
   "source": [
    "def addupto(n):\n",
    "    if n==0:\n",
    "        return(0)\n",
    "    else:\n",
    "        return(n+addupto(n-1))\n"
   ]
  },
  {
   "cell_type": "code",
   "execution_count": 50,
   "id": "cf47d843",
   "metadata": {},
   "outputs": [
    {
     "data": {
      "text/plain": [
       "15"
      ]
     },
     "execution_count": 50,
     "metadata": {},
     "output_type": "execute_result"
    }
   ],
   "source": [
    "addupto(5)"
   ]
  },
  {
   "cell_type": "code",
   "execution_count": 52,
   "id": "30a76805",
   "metadata": {},
   "outputs": [
    {
     "name": "stdout",
     "output_type": "stream",
     "text": [
      "7\n"
     ]
    }
   ],
   "source": [
    "largest=lambda a,b:a if a>b else b\n",
    "print(largest(5,7))"
   ]
  },
  {
   "cell_type": "code",
   "execution_count": null,
   "id": "9f4c8637",
   "metadata": {},
   "outputs": [],
   "source": []
  }
 ],
 "metadata": {
  "kernelspec": {
   "display_name": "Python 3 (ipykernel)",
   "language": "python",
   "name": "python3"
  },
  "language_info": {
   "codemirror_mode": {
    "name": "ipython",
    "version": 3
   },
   "file_extension": ".py",
   "mimetype": "text/x-python",
   "name": "python",
   "nbconvert_exporter": "python",
   "pygments_lexer": "ipython3",
   "version": "3.11.5"
  }
 },
 "nbformat": 4,
 "nbformat_minor": 5
}
