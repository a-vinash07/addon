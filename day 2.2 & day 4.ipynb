{
 "cells": [
  {
   "cell_type": "code",
   "execution_count": 1,
   "id": "05c510f2",
   "metadata": {},
   "outputs": [],
   "source": [
    "list1=[5,8,9,7]\n",
    "list2=[6,7,3,2]\n"
   ]
  },
  {
   "cell_type": "code",
   "execution_count": 2,
   "id": "d2a3ff8f",
   "metadata": {},
   "outputs": [],
   "source": [
    "import numpy as np\n"
   ]
  },
  {
   "cell_type": "code",
   "execution_count": 3,
   "id": "46ef1e61",
   "metadata": {},
   "outputs": [],
   "source": [
    "arr1=np.array(list1)\n",
    "arr2=np.array(list2)"
   ]
  },
  {
   "cell_type": "code",
   "execution_count": 4,
   "id": "d1809a39",
   "metadata": {},
   "outputs": [
    {
     "data": {
      "text/plain": [
       "array([11, 15, 12,  9])"
      ]
     },
     "execution_count": 4,
     "metadata": {},
     "output_type": "execute_result"
    }
   ],
   "source": [
    "arr1+arr2"
   ]
  },
  {
   "cell_type": "code",
   "execution_count": 5,
   "id": "e872a9ee",
   "metadata": {},
   "outputs": [
    {
     "data": {
      "text/plain": [
       "dtype('int32')"
      ]
     },
     "execution_count": 5,
     "metadata": {},
     "output_type": "execute_result"
    }
   ],
   "source": [
    "arr1.dtype"
   ]
  },
  {
   "cell_type": "code",
   "execution_count": 6,
   "id": "2fdc1ccf",
   "metadata": {},
   "outputs": [
    {
     "data": {
      "text/plain": [
       "array(['1', '2', '3', '4', '5'], dtype='<U11')"
      ]
     },
     "execution_count": 6,
     "metadata": {},
     "output_type": "execute_result"
    }
   ],
   "source": [
    "np.array([1,2,3,'4','5'])"
   ]
  },
  {
   "cell_type": "code",
   "execution_count": 7,
   "id": "97cd08e6",
   "metadata": {},
   "outputs": [],
   "source": [
    "arr2 =np.array([[1,2,3],[4,5,6],[7,8,9]])\n"
   ]
  },
  {
   "cell_type": "code",
   "execution_count": 8,
   "id": "23224677",
   "metadata": {},
   "outputs": [
    {
     "data": {
      "text/plain": [
       "array([[1, 2, 3],\n",
       "       [4, 5, 6],\n",
       "       [7, 8, 9]])"
      ]
     },
     "execution_count": 8,
     "metadata": {},
     "output_type": "execute_result"
    }
   ],
   "source": [
    "arr2\n"
   ]
  },
  {
   "cell_type": "code",
   "execution_count": 9,
   "id": "78bd9fcd",
   "metadata": {},
   "outputs": [
    {
     "data": {
      "text/plain": [
       "2"
      ]
     },
     "execution_count": 9,
     "metadata": {},
     "output_type": "execute_result"
    }
   ],
   "source": [
    "arr2.ndim\n"
   ]
  },
  {
   "cell_type": "code",
   "execution_count": 10,
   "id": "54fab008",
   "metadata": {},
   "outputs": [
    {
     "data": {
      "text/plain": [
       "(3, 3)"
      ]
     },
     "execution_count": 10,
     "metadata": {},
     "output_type": "execute_result"
    }
   ],
   "source": [
    "arr2.shape"
   ]
  },
  {
   "cell_type": "code",
   "execution_count": 11,
   "id": "9fb2260d",
   "metadata": {},
   "outputs": [
    {
     "data": {
      "text/plain": [
       "array([ 1,  2,  3,  4,  5,  6,  7,  8,  9, 10])"
      ]
     },
     "execution_count": 11,
     "metadata": {},
     "output_type": "execute_result"
    }
   ],
   "source": [
    "np.arange(1,11)\n"
   ]
  },
  {
   "cell_type": "code",
   "execution_count": 12,
   "id": "b5960550",
   "metadata": {},
   "outputs": [],
   "source": [
    "arr3=np.arange(4,20)"
   ]
  },
  {
   "cell_type": "code",
   "execution_count": 13,
   "id": "b599b2bd",
   "metadata": {},
   "outputs": [
    {
     "data": {
      "text/plain": [
       "(16,)"
      ]
     },
     "execution_count": 13,
     "metadata": {},
     "output_type": "execute_result"
    }
   ],
   "source": [
    "arr3.shape"
   ]
  },
  {
   "cell_type": "code",
   "execution_count": 14,
   "id": "7c110b45",
   "metadata": {},
   "outputs": [
    {
     "data": {
      "text/plain": [
       "array([[ 4,  5,  6,  7,  8,  9, 10, 11],\n",
       "       [12, 13, 14, 15, 16, 17, 18, 19]])"
      ]
     },
     "execution_count": 14,
     "metadata": {},
     "output_type": "execute_result"
    }
   ],
   "source": [
    "arr3.reshape(2,8)"
   ]
  },
  {
   "cell_type": "code",
   "execution_count": 15,
   "id": "b90f69b0",
   "metadata": {},
   "outputs": [],
   "source": [
    "arr4=arr3"
   ]
  },
  {
   "cell_type": "code",
   "execution_count": 16,
   "id": "48152d86",
   "metadata": {},
   "outputs": [],
   "source": [
    "arr4 = arr4.reshape(4,4)"
   ]
  },
  {
   "cell_type": "markdown",
   "id": "272294b3",
   "metadata": {},
   "source": [
    "#### "
   ]
  },
  {
   "cell_type": "code",
   "execution_count": 17,
   "id": "41b2fe53",
   "metadata": {},
   "outputs": [
    {
     "data": {
      "text/plain": [
       "array([[ 4,  5,  6,  7],\n",
       "       [ 8,  9, 10, 11],\n",
       "       [12, 13, 14, 15],\n",
       "       [16, 17, 18, 19]])"
      ]
     },
     "execution_count": 17,
     "metadata": {},
     "output_type": "execute_result"
    }
   ],
   "source": [
    "arr4"
   ]
  },
  {
   "cell_type": "code",
   "execution_count": 18,
   "id": "f0c1168e",
   "metadata": {},
   "outputs": [
    {
     "data": {
      "text/plain": [
       "9"
      ]
     },
     "execution_count": 18,
     "metadata": {},
     "output_type": "execute_result"
    }
   ],
   "source": [
    "arr3[5]"
   ]
  },
  {
   "cell_type": "code",
   "execution_count": 19,
   "id": "18aa82f3",
   "metadata": {},
   "outputs": [
    {
     "data": {
      "text/plain": [
       "array([[ 9, 10],\n",
       "       [13, 14]])"
      ]
     },
     "execution_count": 19,
     "metadata": {},
     "output_type": "execute_result"
    }
   ],
   "source": [
    "arr4[1:3,(1,2)]"
   ]
  },
  {
   "cell_type": "code",
   "execution_count": 21,
   "id": "0b2dd05c",
   "metadata": {},
   "outputs": [],
   "source": [
    "arr5=np.array([[5,6,9],[-8,7,2],[-1,4,5]])"
   ]
  },
  {
   "cell_type": "code",
   "execution_count": 22,
   "id": "1afcbc73",
   "metadata": {},
   "outputs": [
    {
     "data": {
      "text/plain": [
       "array([[ 5,  6,  9],\n",
       "       [-8,  7,  2],\n",
       "       [-1,  4,  5]])"
      ]
     },
     "execution_count": 22,
     "metadata": {},
     "output_type": "execute_result"
    }
   ],
   "source": [
    "arr5"
   ]
  },
  {
   "cell_type": "code",
   "execution_count": 23,
   "id": "f71e2954",
   "metadata": {},
   "outputs": [
    {
     "data": {
      "text/plain": [
       "29"
      ]
     },
     "execution_count": 23,
     "metadata": {},
     "output_type": "execute_result"
    }
   ],
   "source": [
    "arr5.sum()"
   ]
  },
  {
   "cell_type": "code",
   "execution_count": 25,
   "id": "18781e34",
   "metadata": {},
   "outputs": [
    {
     "data": {
      "text/plain": [
       "3.2222222222222223"
      ]
     },
     "execution_count": 25,
     "metadata": {},
     "output_type": "execute_result"
    }
   ],
   "source": [
    "arr5.mean()"
   ]
  },
  {
   "cell_type": "code",
   "execution_count": 26,
   "id": "8b8ebea9",
   "metadata": {},
   "outputs": [
    {
     "data": {
      "text/plain": [
       "5.0"
      ]
     },
     "execution_count": 26,
     "metadata": {},
     "output_type": "execute_result"
    }
   ],
   "source": [
    "np.median(arr5)"
   ]
  },
  {
   "cell_type": "code",
   "execution_count": 27,
   "id": "1d1a5957",
   "metadata": {},
   "outputs": [
    {
     "data": {
      "text/plain": [
       "array([[15, 16, 19],\n",
       "       [ 2, 17, 12],\n",
       "       [ 9, 14, 15]])"
      ]
     },
     "execution_count": 27,
     "metadata": {},
     "output_type": "execute_result"
    }
   ],
   "source": [
    "arr5+10"
   ]
  },
  {
   "cell_type": "code",
   "execution_count": 33,
   "id": "c6adf1c8",
   "metadata": {},
   "outputs": [],
   "source": [
    "arr6=arr5*100"
   ]
  },
  {
   "cell_type": "code",
   "execution_count": 35,
   "id": "05600a31",
   "metadata": {},
   "outputs": [],
   "source": [
    "arr6=[[10,20,30,40],[80,90,60,50],[40,30,20,10]]"
   ]
  },
  {
   "cell_type": "code",
   "execution_count": 36,
   "id": "f604175d",
   "metadata": {},
   "outputs": [
    {
     "data": {
      "text/plain": [
       "array([[3.16227766, 4.47213595, 5.47722558, 6.32455532],\n",
       "       [8.94427191, 9.48683298, 7.74596669, 7.07106781],\n",
       "       [6.32455532, 5.47722558, 4.47213595, 3.16227766]])"
      ]
     },
     "execution_count": 36,
     "metadata": {},
     "output_type": "execute_result"
    }
   ],
   "source": [
    "np.sqrt(arr6)"
   ]
  },
  {
   "cell_type": "markdown",
   "id": "c86732cb",
   "metadata": {},
   "source": [
    "# special arrays"
   ]
  },
  {
   "cell_type": "code",
   "execution_count": 38,
   "id": "8db18067",
   "metadata": {},
   "outputs": [
    {
     "data": {
      "text/plain": [
       "array([[0., 0., 0., 0., 0., 0.],\n",
       "       [0., 0., 0., 0., 0., 0.],\n",
       "       [0., 0., 0., 0., 0., 0.],\n",
       "       [0., 0., 0., 0., 0., 0.],\n",
       "       [0., 0., 0., 0., 0., 0.]])"
      ]
     },
     "execution_count": 38,
     "metadata": {},
     "output_type": "execute_result"
    }
   ],
   "source": [
    "np.zeros((5,6))"
   ]
  },
  {
   "cell_type": "code",
   "execution_count": 40,
   "id": "c1479a7e",
   "metadata": {},
   "outputs": [
    {
     "data": {
      "text/plain": [
       "array([[1., 1., 1., 1.],\n",
       "       [1., 1., 1., 1.],\n",
       "       [1., 1., 1., 1.]])"
      ]
     },
     "execution_count": 40,
     "metadata": {},
     "output_type": "execute_result"
    }
   ],
   "source": [
    "np.ones((3,4))"
   ]
  },
  {
   "cell_type": "code",
   "execution_count": 41,
   "id": "c1347838",
   "metadata": {},
   "outputs": [
    {
     "data": {
      "text/plain": [
       "array([[1., 0., 0., 0., 0.],\n",
       "       [0., 1., 0., 0., 0.],\n",
       "       [0., 0., 1., 0., 0.],\n",
       "       [0., 0., 0., 1., 0.],\n",
       "       [0., 0., 0., 0., 1.]])"
      ]
     },
     "execution_count": 41,
     "metadata": {},
     "output_type": "execute_result"
    }
   ],
   "source": [
    "np.eye(5)"
   ]
  },
  {
   "cell_type": "code",
   "execution_count": null,
   "id": "b5d60c9c",
   "metadata": {},
   "outputs": [],
   "source": []
  }
 ],
 "metadata": {
  "kernelspec": {
   "display_name": "Python 3 (ipykernel)",
   "language": "python",
   "name": "python3"
  },
  "language_info": {
   "codemirror_mode": {
    "name": "ipython",
    "version": 3
   },
   "file_extension": ".py",
   "mimetype": "text/x-python",
   "name": "python",
   "nbconvert_exporter": "python",
   "pygments_lexer": "ipython3",
   "version": "3.11.5"
  }
 },
 "nbformat": 4,
 "nbformat_minor": 5
}
